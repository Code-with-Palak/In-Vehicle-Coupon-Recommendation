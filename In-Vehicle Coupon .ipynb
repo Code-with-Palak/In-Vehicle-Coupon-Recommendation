{
  "nbformat": 4,
  "nbformat_minor": 0,
  "metadata": {
    "colab": {
      "name": "4.ipynb",
      "provenance": [],
      "collapsed_sections": []
    },
    "kernelspec": {
      "name": "python3",
      "display_name": "Python 3"
    },
    "language_info": {
      "name": "python"
    }
  },
  "cells": [
    {
      "cell_type": "markdown",
      "metadata": {
        "id": "egVcLLKEkKZ3"
      },
      "source": [
        "## **in-vehicle coupon recommendation Data Set**\n",
        "In this dataset, the samples of driving scenarios are having the destination, current time, weather, passenger, etc., and then ask the person whether the person will accept the coupon if he is the driver or not. "
      ]
    },
    {
      "cell_type": "markdown",
      "metadata": {
        "id": "v4P4_KZTkVHY"
      },
      "source": [
        "## Importing Libraries"
      ]
    },
    {
      "cell_type": "code",
      "metadata": {
        "id": "MrQqJYPTjGtY"
      },
      "source": [
        "import pandas as pd\n",
        "import matplotlib.pyplot as plt\n",
        "import seaborn as sns\n",
        "from keras.models import Sequential\n",
        "from keras.layers import Dense, Dropout\n",
        "from sklearn.utils import shuffle\n",
        "from sklearn.preprocessing import LabelEncoder, OneHotEncoder\n",
        "from sklearn.model_selection import train_test_split\n",
        "from sklearn.tree import DecisionTreeClassifier\n",
        "from sklearn.ensemble import ExtraTreesClassifier\n",
        "from xgboost import XGBClassifier\n",
        "from sklearn.metrics import plot_confusion_matrix, roc_curve\n",
        "from sklearn.metrics import log_loss, plot_confusion_matrix, classification_report, r2_score, accuracy_score, roc_auc_score"
      ],
      "execution_count": 1,
      "outputs": []
    },
    {
      "cell_type": "markdown",
      "metadata": {
        "id": "5oUMwhDW1TSd"
      },
      "source": [
        "## Loading vehicle coupon recommendation Data Set\n"
      ]
    },
    {
      "cell_type": "markdown",
      "metadata": {
        "id": "fR8S15JB1hu7"
      },
      "source": [
        "In this dataset, we have to classify whether a person accepts coupon or not based on some circumstances/instances in the form of features"
      ]
    },
    {
      "cell_type": "code",
      "metadata": {
        "colab": {
          "base_uri": "https://localhost:8080/",
          "height": 383
        },
        "id": "ilh2JPX3kv7W",
        "outputId": "514625fd-1e7b-4bf5-92b5-6de9e67da6fe"
      },
      "source": [
        "data = pd.read_csv('/content/drive/MyDrive/Tasks/task(ICA)/in-vehicle-coupon-recommendation.csv')\n",
        "data.head()"
      ],
      "execution_count": 2,
      "outputs": [
        {
          "output_type": "execute_result",
          "data": {
            "text/html": [
              "<div>\n",
              "<style scoped>\n",
              "    .dataframe tbody tr th:only-of-type {\n",
              "        vertical-align: middle;\n",
              "    }\n",
              "\n",
              "    .dataframe tbody tr th {\n",
              "        vertical-align: top;\n",
              "    }\n",
              "\n",
              "    .dataframe thead th {\n",
              "        text-align: right;\n",
              "    }\n",
              "</style>\n",
              "<table border=\"1\" class=\"dataframe\">\n",
              "  <thead>\n",
              "    <tr style=\"text-align: right;\">\n",
              "      <th></th>\n",
              "      <th>destination</th>\n",
              "      <th>passanger</th>\n",
              "      <th>weather</th>\n",
              "      <th>temperature</th>\n",
              "      <th>time</th>\n",
              "      <th>coupon</th>\n",
              "      <th>expiration</th>\n",
              "      <th>gender</th>\n",
              "      <th>age</th>\n",
              "      <th>maritalStatus</th>\n",
              "      <th>has_children</th>\n",
              "      <th>education</th>\n",
              "      <th>occupation</th>\n",
              "      <th>income</th>\n",
              "      <th>car</th>\n",
              "      <th>Bar</th>\n",
              "      <th>CoffeeHouse</th>\n",
              "      <th>CarryAway</th>\n",
              "      <th>RestaurantLessThan20</th>\n",
              "      <th>Restaurant20To50</th>\n",
              "      <th>toCoupon_GEQ5min</th>\n",
              "      <th>toCoupon_GEQ15min</th>\n",
              "      <th>toCoupon_GEQ25min</th>\n",
              "      <th>direction_same</th>\n",
              "      <th>direction_opp</th>\n",
              "      <th>Y</th>\n",
              "    </tr>\n",
              "  </thead>\n",
              "  <tbody>\n",
              "    <tr>\n",
              "      <th>0</th>\n",
              "      <td>No Urgent Place</td>\n",
              "      <td>Alone</td>\n",
              "      <td>Sunny</td>\n",
              "      <td>55</td>\n",
              "      <td>2PM</td>\n",
              "      <td>Restaurant(&lt;20)</td>\n",
              "      <td>1d</td>\n",
              "      <td>Female</td>\n",
              "      <td>21</td>\n",
              "      <td>Unmarried partner</td>\n",
              "      <td>1</td>\n",
              "      <td>Some college - no degree</td>\n",
              "      <td>Unemployed</td>\n",
              "      <td>$37500 - $49999</td>\n",
              "      <td>NaN</td>\n",
              "      <td>never</td>\n",
              "      <td>never</td>\n",
              "      <td>NaN</td>\n",
              "      <td>4~8</td>\n",
              "      <td>1~3</td>\n",
              "      <td>1</td>\n",
              "      <td>0</td>\n",
              "      <td>0</td>\n",
              "      <td>0</td>\n",
              "      <td>1</td>\n",
              "      <td>1</td>\n",
              "    </tr>\n",
              "    <tr>\n",
              "      <th>1</th>\n",
              "      <td>No Urgent Place</td>\n",
              "      <td>Friend(s)</td>\n",
              "      <td>Sunny</td>\n",
              "      <td>80</td>\n",
              "      <td>10AM</td>\n",
              "      <td>Coffee House</td>\n",
              "      <td>2h</td>\n",
              "      <td>Female</td>\n",
              "      <td>21</td>\n",
              "      <td>Unmarried partner</td>\n",
              "      <td>1</td>\n",
              "      <td>Some college - no degree</td>\n",
              "      <td>Unemployed</td>\n",
              "      <td>$37500 - $49999</td>\n",
              "      <td>NaN</td>\n",
              "      <td>never</td>\n",
              "      <td>never</td>\n",
              "      <td>NaN</td>\n",
              "      <td>4~8</td>\n",
              "      <td>1~3</td>\n",
              "      <td>1</td>\n",
              "      <td>0</td>\n",
              "      <td>0</td>\n",
              "      <td>0</td>\n",
              "      <td>1</td>\n",
              "      <td>0</td>\n",
              "    </tr>\n",
              "    <tr>\n",
              "      <th>2</th>\n",
              "      <td>No Urgent Place</td>\n",
              "      <td>Friend(s)</td>\n",
              "      <td>Sunny</td>\n",
              "      <td>80</td>\n",
              "      <td>10AM</td>\n",
              "      <td>Carry out &amp; Take away</td>\n",
              "      <td>2h</td>\n",
              "      <td>Female</td>\n",
              "      <td>21</td>\n",
              "      <td>Unmarried partner</td>\n",
              "      <td>1</td>\n",
              "      <td>Some college - no degree</td>\n",
              "      <td>Unemployed</td>\n",
              "      <td>$37500 - $49999</td>\n",
              "      <td>NaN</td>\n",
              "      <td>never</td>\n",
              "      <td>never</td>\n",
              "      <td>NaN</td>\n",
              "      <td>4~8</td>\n",
              "      <td>1~3</td>\n",
              "      <td>1</td>\n",
              "      <td>1</td>\n",
              "      <td>0</td>\n",
              "      <td>0</td>\n",
              "      <td>1</td>\n",
              "      <td>1</td>\n",
              "    </tr>\n",
              "    <tr>\n",
              "      <th>3</th>\n",
              "      <td>No Urgent Place</td>\n",
              "      <td>Friend(s)</td>\n",
              "      <td>Sunny</td>\n",
              "      <td>80</td>\n",
              "      <td>2PM</td>\n",
              "      <td>Coffee House</td>\n",
              "      <td>2h</td>\n",
              "      <td>Female</td>\n",
              "      <td>21</td>\n",
              "      <td>Unmarried partner</td>\n",
              "      <td>1</td>\n",
              "      <td>Some college - no degree</td>\n",
              "      <td>Unemployed</td>\n",
              "      <td>$37500 - $49999</td>\n",
              "      <td>NaN</td>\n",
              "      <td>never</td>\n",
              "      <td>never</td>\n",
              "      <td>NaN</td>\n",
              "      <td>4~8</td>\n",
              "      <td>1~3</td>\n",
              "      <td>1</td>\n",
              "      <td>1</td>\n",
              "      <td>0</td>\n",
              "      <td>0</td>\n",
              "      <td>1</td>\n",
              "      <td>0</td>\n",
              "    </tr>\n",
              "    <tr>\n",
              "      <th>4</th>\n",
              "      <td>No Urgent Place</td>\n",
              "      <td>Friend(s)</td>\n",
              "      <td>Sunny</td>\n",
              "      <td>80</td>\n",
              "      <td>2PM</td>\n",
              "      <td>Coffee House</td>\n",
              "      <td>1d</td>\n",
              "      <td>Female</td>\n",
              "      <td>21</td>\n",
              "      <td>Unmarried partner</td>\n",
              "      <td>1</td>\n",
              "      <td>Some college - no degree</td>\n",
              "      <td>Unemployed</td>\n",
              "      <td>$37500 - $49999</td>\n",
              "      <td>NaN</td>\n",
              "      <td>never</td>\n",
              "      <td>never</td>\n",
              "      <td>NaN</td>\n",
              "      <td>4~8</td>\n",
              "      <td>1~3</td>\n",
              "      <td>1</td>\n",
              "      <td>1</td>\n",
              "      <td>0</td>\n",
              "      <td>0</td>\n",
              "      <td>1</td>\n",
              "      <td>0</td>\n",
              "    </tr>\n",
              "  </tbody>\n",
              "</table>\n",
              "</div>"
            ],
            "text/plain": [
              "       destination  passanger weather  ...  direction_same direction_opp  Y\n",
              "0  No Urgent Place      Alone   Sunny  ...               0             1  1\n",
              "1  No Urgent Place  Friend(s)   Sunny  ...               0             1  0\n",
              "2  No Urgent Place  Friend(s)   Sunny  ...               0             1  1\n",
              "3  No Urgent Place  Friend(s)   Sunny  ...               0             1  0\n",
              "4  No Urgent Place  Friend(s)   Sunny  ...               0             1  0\n",
              "\n",
              "[5 rows x 26 columns]"
            ]
          },
          "metadata": {
            "tags": []
          },
          "execution_count": 2
        }
      ]
    },
    {
      "cell_type": "markdown",
      "metadata": {
        "id": "0dwfOmkp1y22"
      },
      "source": [
        "### Some basic operations on datasets"
      ]
    },
    {
      "cell_type": "code",
      "metadata": {
        "colab": {
          "base_uri": "https://localhost:8080/"
        },
        "id": "L7VkWCRZ1x7a",
        "outputId": "bcc293a5-cfa5-453f-c34b-6c5de4661f13"
      },
      "source": [
        "#shape of dataset; rows and columns we have\n",
        "data.shape"
      ],
      "execution_count": 3,
      "outputs": [
        {
          "output_type": "execute_result",
          "data": {
            "text/plain": [
              "(12684, 26)"
            ]
          },
          "metadata": {
            "tags": []
          },
          "execution_count": 3
        }
      ]
    },
    {
      "cell_type": "markdown",
      "metadata": {
        "id": "pA-OX6xAibQ3"
      },
      "source": [
        "## Exploratory Data Analysis\n",
        "Let's dive deep into the dataset to understand the most approriate features that can be responsible for the classification"
      ]
    },
    {
      "cell_type": "code",
      "metadata": {
        "colab": {
          "base_uri": "https://localhost:8080/"
        },
        "id": "0QuMmHcLiHV9",
        "outputId": "354f0323-e63f-4911-8cba-995803429e69"
      },
      "source": [
        "#basic info of datasets; instances of which dtype\n",
        "data.info()"
      ],
      "execution_count": 4,
      "outputs": [
        {
          "output_type": "stream",
          "text": [
            "<class 'pandas.core.frame.DataFrame'>\n",
            "RangeIndex: 12684 entries, 0 to 12683\n",
            "Data columns (total 26 columns):\n",
            " #   Column                Non-Null Count  Dtype \n",
            "---  ------                --------------  ----- \n",
            " 0   destination           12684 non-null  object\n",
            " 1   passanger             12684 non-null  object\n",
            " 2   weather               12684 non-null  object\n",
            " 3   temperature           12684 non-null  int64 \n",
            " 4   time                  12684 non-null  object\n",
            " 5   coupon                12684 non-null  object\n",
            " 6   expiration            12684 non-null  object\n",
            " 7   gender                12684 non-null  object\n",
            " 8   age                   12684 non-null  object\n",
            " 9   maritalStatus         12684 non-null  object\n",
            " 10  has_children          12684 non-null  int64 \n",
            " 11  education             12684 non-null  object\n",
            " 12  occupation            12684 non-null  object\n",
            " 13  income                12684 non-null  object\n",
            " 14  car                   108 non-null    object\n",
            " 15  Bar                   12577 non-null  object\n",
            " 16  CoffeeHouse           12467 non-null  object\n",
            " 17  CarryAway             12533 non-null  object\n",
            " 18  RestaurantLessThan20  12554 non-null  object\n",
            " 19  Restaurant20To50      12495 non-null  object\n",
            " 20  toCoupon_GEQ5min      12684 non-null  int64 \n",
            " 21  toCoupon_GEQ15min     12684 non-null  int64 \n",
            " 22  toCoupon_GEQ25min     12684 non-null  int64 \n",
            " 23  direction_same        12684 non-null  int64 \n",
            " 24  direction_opp         12684 non-null  int64 \n",
            " 25  Y                     12684 non-null  int64 \n",
            "dtypes: int64(8), object(18)\n",
            "memory usage: 2.5+ MB\n"
          ],
          "name": "stdout"
        }
      ]
    },
    {
      "cell_type": "markdown",
      "metadata": {
        "id": "l4JGxMZutkEA"
      },
      "source": [
        "#### Attribute Information:\n",
        "\n",
        "- destination: No Urgent Place, Home, Work\n",
        "- passanger: Alone, Friend(s), Kid(s), Partner (who are the passengers in the car)\n",
        "- weather: Sunny, Rainy, Snowy\n",
        "- temperature:55, 80, 30\n",
        "- time: 2PM, 10AM, 6PM, 7AM, 10PM\n",
        "- coupon: Restaurant(<20), Coffee House, Carry out & Take away, Bar, Restaurant(20 to 50 dollars)\n",
        "- expiration: 1d, 2h (the coupon expires in 1 day or in 2 hours)\n",
        "- gender: Female, Male\n",
        "- age: 21, 46, 26, 31, 41, 50plus, 36, below21\n",
        "- maritalStatus: Unmarried partner, Single, Married partner, Divorced, Widowed\n",
        "- has_Children:1, 0\n",
        "- education: Some college - no degree, Bachelors degree, Associates degree, High School Graduate, Graduate degree (Masters or Doctorate), Some High School\n",
        "- occupation: Unemployed, Architecture & Engineering, Student, Education&Training&Library, Healthcare Support,\n",
        "Healthcare Practitioners & Technical, Sales & Related, Management,\n",
        "Arts Design Entertainment Sports & Media, Computer & Mathematical,\n",
        "Life Physical Social Science, Personal Care & Service,\n",
        "Community & Social Services, Office & Administrative Support,\n",
        "Construction & Extraction, Legal, Retired,\n",
        "Installation Maintenance & Repair, Transportation & Material Moving,\n",
        "Business & Financial, Protective Service,\n",
        "Food Preparation & Serving Related, Production Occupations,\n",
        "Building & Grounds Cleaning & Maintenance, Farming Fishing & Forestry\n",
        "- income: (in dollars) 37500 - 49999, 62500 - 74999, 12500 - 24999, 75000 - 87499,\n",
        "50000 - 62499, 25000 - 37499, 100000 or More, 87500 - 99999, Less than 12500\n",
        "- Bar: never, less1, 1 to 3, gt8, nan4~8 (feature meaning: how many times do you go to a bar every month?)\n",
        "- CoffeeHouse: never, less1, 4 to 8, 1 to 3, gt8, nan (feature meaning: how many times do you go to a coffeehouse every month?)\n",
        "- CarryAway:n4 to 8, 1 to 3, gt8, less1, never (feature meaning: how many times do you get take-away food every month?)\n",
        "- RestaurantLessThan20: 4 to 8, 1 to 3, less1, gt8, never (feature meaning: how many times do you go to a restaurant with an average expense per person of less than 20 dollars every month?)\n",
        "- Restaurant20To50: 1 to 3, less1, never, gt8, 4~8, nan (feature meaning: how many times do you go to a restaurant with average expense per person of 20 to 50 dollars every month?)\n",
        "- toCoupon_GEQ15min:0,1 (feature meaning: driving distance to the restaurant or bar for using the coupon is greater than 15 minutes)\n",
        "- toCoupon_GEQ25min:0, 1 (feature meaning: driving distance to the restaurant or bar for using the coupon is greater than 25 minutes)\n",
        "- direction_same:0, 1 (feature meaning: whether the restaurant or bar is in the same direction as your current destination)\n",
        "- direction_opp:1, 0 (feature meaning: whether the restaurant or bar is in the same direction as your current destination)\n",
        "- Y:1, 0 (whether the coupon is accepted); 1 denotes accepted, 0 denotes unaccepted"
      ]
    },
    {
      "cell_type": "markdown",
      "metadata": {
        "id": "7xzFS2cB5X8Q"
      },
      "source": [
        "### Identifying unique values in each attribute"
      ]
    },
    {
      "cell_type": "code",
      "metadata": {
        "colab": {
          "base_uri": "https://localhost:8080/"
        },
        "id": "TYUt4o54lkPo",
        "outputId": "5fe425de-9f4c-4a0e-8b58-ba95ea1103a8"
      },
      "source": [
        "features = [col for col in data.columns]\n",
        "uniques = dict()\n",
        "for col in features:\n",
        "  uniques[col] = [val for val in data[col].unique()]\n",
        "print(uniques)"
      ],
      "execution_count": 5,
      "outputs": [
        {
          "output_type": "stream",
          "text": [
            "{'destination': ['No Urgent Place', 'Home', 'Work'], 'passanger': ['Alone', 'Friend(s)', 'Kid(s)', 'Partner'], 'weather': ['Sunny', 'Rainy', 'Snowy'], 'temperature': [55, 80, 30], 'time': ['2PM', '10AM', '6PM', '7AM', '10PM'], 'coupon': ['Restaurant(<20)', 'Coffee House', 'Carry out & Take away', 'Bar', 'Restaurant(20-50)'], 'expiration': ['1d', '2h'], 'gender': ['Female', 'Male'], 'age': ['21', '46', '26', '31', '41', '50plus', '36', 'below21'], 'maritalStatus': ['Unmarried partner', 'Single', 'Married partner', 'Divorced', 'Widowed'], 'has_children': [1, 0], 'education': ['Some college - no degree', 'Bachelors degree', 'Associates degree', 'High School Graduate', 'Graduate degree (Masters or Doctorate)', 'Some High School'], 'occupation': ['Unemployed', 'Architecture & Engineering', 'Student', 'Education&Training&Library', 'Healthcare Support', 'Healthcare Practitioners & Technical', 'Sales & Related', 'Management', 'Arts Design Entertainment Sports & Media', 'Computer & Mathematical', 'Life Physical Social Science', 'Personal Care & Service', 'Community & Social Services', 'Office & Administrative Support', 'Construction & Extraction', 'Legal', 'Retired', 'Installation Maintenance & Repair', 'Transportation & Material Moving', 'Business & Financial', 'Protective Service', 'Food Preparation & Serving Related', 'Production Occupations', 'Building & Grounds Cleaning & Maintenance', 'Farming Fishing & Forestry'], 'income': ['$37500 - $49999', '$62500 - $74999', '$12500 - $24999', '$75000 - $87499', '$50000 - $62499', '$25000 - $37499', '$100000 or More', '$87500 - $99999', 'Less than $12500'], 'car': [nan, 'Scooter and motorcycle', 'crossover', 'Mazda5', 'do not drive', 'Car that is too old to install Onstar :D'], 'Bar': ['never', 'less1', '1~3', 'gt8', nan, '4~8'], 'CoffeeHouse': ['never', 'less1', '4~8', '1~3', 'gt8', nan], 'CarryAway': [nan, '4~8', '1~3', 'gt8', 'less1', 'never'], 'RestaurantLessThan20': ['4~8', '1~3', 'less1', 'gt8', nan, 'never'], 'Restaurant20To50': ['1~3', 'less1', 'never', 'gt8', '4~8', nan], 'toCoupon_GEQ5min': [1], 'toCoupon_GEQ15min': [0, 1], 'toCoupon_GEQ25min': [0, 1], 'direction_same': [0, 1], 'direction_opp': [1, 0], 'Y': [1, 0]}\n"
          ],
          "name": "stdout"
        }
      ]
    },
    {
      "cell_type": "code",
      "metadata": {
        "colab": {
          "base_uri": "https://localhost:8080/",
          "height": 284
        },
        "id": "lESwm6EBiI3j",
        "outputId": "577ae0b4-4343-41cc-a11f-5eb21b8dd7a1"
      },
      "source": [
        "#dataset statistics\n",
        "data.describe()"
      ],
      "execution_count": 6,
      "outputs": [
        {
          "output_type": "execute_result",
          "data": {
            "text/html": [
              "<div>\n",
              "<style scoped>\n",
              "    .dataframe tbody tr th:only-of-type {\n",
              "        vertical-align: middle;\n",
              "    }\n",
              "\n",
              "    .dataframe tbody tr th {\n",
              "        vertical-align: top;\n",
              "    }\n",
              "\n",
              "    .dataframe thead th {\n",
              "        text-align: right;\n",
              "    }\n",
              "</style>\n",
              "<table border=\"1\" class=\"dataframe\">\n",
              "  <thead>\n",
              "    <tr style=\"text-align: right;\">\n",
              "      <th></th>\n",
              "      <th>temperature</th>\n",
              "      <th>has_children</th>\n",
              "      <th>toCoupon_GEQ5min</th>\n",
              "      <th>toCoupon_GEQ15min</th>\n",
              "      <th>toCoupon_GEQ25min</th>\n",
              "      <th>direction_same</th>\n",
              "      <th>direction_opp</th>\n",
              "      <th>Y</th>\n",
              "    </tr>\n",
              "  </thead>\n",
              "  <tbody>\n",
              "    <tr>\n",
              "      <th>count</th>\n",
              "      <td>12684.000000</td>\n",
              "      <td>12684.000000</td>\n",
              "      <td>12684.0</td>\n",
              "      <td>12684.000000</td>\n",
              "      <td>12684.000000</td>\n",
              "      <td>12684.000000</td>\n",
              "      <td>12684.000000</td>\n",
              "      <td>12684.000000</td>\n",
              "    </tr>\n",
              "    <tr>\n",
              "      <th>mean</th>\n",
              "      <td>63.301798</td>\n",
              "      <td>0.414144</td>\n",
              "      <td>1.0</td>\n",
              "      <td>0.561495</td>\n",
              "      <td>0.119126</td>\n",
              "      <td>0.214759</td>\n",
              "      <td>0.785241</td>\n",
              "      <td>0.568433</td>\n",
              "    </tr>\n",
              "    <tr>\n",
              "      <th>std</th>\n",
              "      <td>19.154486</td>\n",
              "      <td>0.492593</td>\n",
              "      <td>0.0</td>\n",
              "      <td>0.496224</td>\n",
              "      <td>0.323950</td>\n",
              "      <td>0.410671</td>\n",
              "      <td>0.410671</td>\n",
              "      <td>0.495314</td>\n",
              "    </tr>\n",
              "    <tr>\n",
              "      <th>min</th>\n",
              "      <td>30.000000</td>\n",
              "      <td>0.000000</td>\n",
              "      <td>1.0</td>\n",
              "      <td>0.000000</td>\n",
              "      <td>0.000000</td>\n",
              "      <td>0.000000</td>\n",
              "      <td>0.000000</td>\n",
              "      <td>0.000000</td>\n",
              "    </tr>\n",
              "    <tr>\n",
              "      <th>25%</th>\n",
              "      <td>55.000000</td>\n",
              "      <td>0.000000</td>\n",
              "      <td>1.0</td>\n",
              "      <td>0.000000</td>\n",
              "      <td>0.000000</td>\n",
              "      <td>0.000000</td>\n",
              "      <td>1.000000</td>\n",
              "      <td>0.000000</td>\n",
              "    </tr>\n",
              "    <tr>\n",
              "      <th>50%</th>\n",
              "      <td>80.000000</td>\n",
              "      <td>0.000000</td>\n",
              "      <td>1.0</td>\n",
              "      <td>1.000000</td>\n",
              "      <td>0.000000</td>\n",
              "      <td>0.000000</td>\n",
              "      <td>1.000000</td>\n",
              "      <td>1.000000</td>\n",
              "    </tr>\n",
              "    <tr>\n",
              "      <th>75%</th>\n",
              "      <td>80.000000</td>\n",
              "      <td>1.000000</td>\n",
              "      <td>1.0</td>\n",
              "      <td>1.000000</td>\n",
              "      <td>0.000000</td>\n",
              "      <td>0.000000</td>\n",
              "      <td>1.000000</td>\n",
              "      <td>1.000000</td>\n",
              "    </tr>\n",
              "    <tr>\n",
              "      <th>max</th>\n",
              "      <td>80.000000</td>\n",
              "      <td>1.000000</td>\n",
              "      <td>1.0</td>\n",
              "      <td>1.000000</td>\n",
              "      <td>1.000000</td>\n",
              "      <td>1.000000</td>\n",
              "      <td>1.000000</td>\n",
              "      <td>1.000000</td>\n",
              "    </tr>\n",
              "  </tbody>\n",
              "</table>\n",
              "</div>"
            ],
            "text/plain": [
              "        temperature  has_children  ...  direction_opp             Y\n",
              "count  12684.000000  12684.000000  ...   12684.000000  12684.000000\n",
              "mean      63.301798      0.414144  ...       0.785241      0.568433\n",
              "std       19.154486      0.492593  ...       0.410671      0.495314\n",
              "min       30.000000      0.000000  ...       0.000000      0.000000\n",
              "25%       55.000000      0.000000  ...       1.000000      0.000000\n",
              "50%       80.000000      0.000000  ...       1.000000      1.000000\n",
              "75%       80.000000      1.000000  ...       1.000000      1.000000\n",
              "max       80.000000      1.000000  ...       1.000000      1.000000\n",
              "\n",
              "[8 rows x 8 columns]"
            ]
          },
          "metadata": {
            "tags": []
          },
          "execution_count": 6
        }
      ]
    },
    {
      "cell_type": "markdown",
      "metadata": {
        "id": "e0p_UBV-2x2t"
      },
      "source": [
        "Observing above statistics, we cannot conclude that the dataset is clean and noise-free, as only few features are described whereas we have 26 features in total (25 attributes + 1 target feature)"
      ]
    },
    {
      "cell_type": "markdown",
      "metadata": {
        "id": "amAmNomo3ZP9"
      },
      "source": [
        "### Checking for missing values"
      ]
    },
    {
      "cell_type": "code",
      "metadata": {
        "colab": {
          "base_uri": "https://localhost:8080/"
        },
        "id": "v_70XuQSmAPj",
        "outputId": "a411347f-32e2-4ead-b774-ec6fdf789aff"
      },
      "source": [
        "data.isnull().sum()"
      ],
      "execution_count": 7,
      "outputs": [
        {
          "output_type": "execute_result",
          "data": {
            "text/plain": [
              "destination                 0\n",
              "passanger                   0\n",
              "weather                     0\n",
              "temperature                 0\n",
              "time                        0\n",
              "coupon                      0\n",
              "expiration                  0\n",
              "gender                      0\n",
              "age                         0\n",
              "maritalStatus               0\n",
              "has_children                0\n",
              "education                   0\n",
              "occupation                  0\n",
              "income                      0\n",
              "car                     12576\n",
              "Bar                       107\n",
              "CoffeeHouse               217\n",
              "CarryAway                 151\n",
              "RestaurantLessThan20      130\n",
              "Restaurant20To50          189\n",
              "toCoupon_GEQ5min            0\n",
              "toCoupon_GEQ15min           0\n",
              "toCoupon_GEQ25min           0\n",
              "direction_same              0\n",
              "direction_opp               0\n",
              "Y                           0\n",
              "dtype: int64"
            ]
          },
          "metadata": {
            "tags": []
          },
          "execution_count": 7
        }
      ]
    },
    {
      "cell_type": "markdown",
      "metadata": {
        "id": "f5BiFuhI3vfV"
      },
      "source": [
        "We can see that some features have **NaN** values which may create disturbance in the performance of algorithmic models. These are needed to be either removed or replaced with some appropriate values"
      ]
    },
    {
      "cell_type": "markdown",
      "metadata": {
        "id": "xjZDzaJY51d8"
      },
      "source": [
        "### Fixing Nan values "
      ]
    },
    {
      "cell_type": "code",
      "metadata": {
        "colab": {
          "base_uri": "https://localhost:8080/",
          "height": 758
        },
        "id": "RrDGQAoIvtXC",
        "outputId": "ee2eb87c-f5f9-4f20-86f4-4e031ca30567"
      },
      "source": [
        "data = data.drop('car', axis=1)\n",
        "cols=[]\n",
        "features = [col for col in data.columns]\n",
        "for col in features:\n",
        "  if data[col].isna().sum()>0 & data[col].isna().sum()<6000:\n",
        "    data[col] = data[col].fillna(data[col][data[col].isna()==False].mode()[0])\n",
        "data"
      ],
      "execution_count": 8,
      "outputs": [
        {
          "output_type": "execute_result",
          "data": {
            "text/html": [
              "<div>\n",
              "<style scoped>\n",
              "    .dataframe tbody tr th:only-of-type {\n",
              "        vertical-align: middle;\n",
              "    }\n",
              "\n",
              "    .dataframe tbody tr th {\n",
              "        vertical-align: top;\n",
              "    }\n",
              "\n",
              "    .dataframe thead th {\n",
              "        text-align: right;\n",
              "    }\n",
              "</style>\n",
              "<table border=\"1\" class=\"dataframe\">\n",
              "  <thead>\n",
              "    <tr style=\"text-align: right;\">\n",
              "      <th></th>\n",
              "      <th>destination</th>\n",
              "      <th>passanger</th>\n",
              "      <th>weather</th>\n",
              "      <th>temperature</th>\n",
              "      <th>time</th>\n",
              "      <th>coupon</th>\n",
              "      <th>expiration</th>\n",
              "      <th>gender</th>\n",
              "      <th>age</th>\n",
              "      <th>maritalStatus</th>\n",
              "      <th>has_children</th>\n",
              "      <th>education</th>\n",
              "      <th>occupation</th>\n",
              "      <th>income</th>\n",
              "      <th>Bar</th>\n",
              "      <th>CoffeeHouse</th>\n",
              "      <th>CarryAway</th>\n",
              "      <th>RestaurantLessThan20</th>\n",
              "      <th>Restaurant20To50</th>\n",
              "      <th>toCoupon_GEQ5min</th>\n",
              "      <th>toCoupon_GEQ15min</th>\n",
              "      <th>toCoupon_GEQ25min</th>\n",
              "      <th>direction_same</th>\n",
              "      <th>direction_opp</th>\n",
              "      <th>Y</th>\n",
              "    </tr>\n",
              "  </thead>\n",
              "  <tbody>\n",
              "    <tr>\n",
              "      <th>0</th>\n",
              "      <td>No Urgent Place</td>\n",
              "      <td>Alone</td>\n",
              "      <td>Sunny</td>\n",
              "      <td>55</td>\n",
              "      <td>2PM</td>\n",
              "      <td>Restaurant(&lt;20)</td>\n",
              "      <td>1d</td>\n",
              "      <td>Female</td>\n",
              "      <td>21</td>\n",
              "      <td>Unmarried partner</td>\n",
              "      <td>1</td>\n",
              "      <td>Some college - no degree</td>\n",
              "      <td>Unemployed</td>\n",
              "      <td>$37500 - $49999</td>\n",
              "      <td>never</td>\n",
              "      <td>never</td>\n",
              "      <td>1~3</td>\n",
              "      <td>4~8</td>\n",
              "      <td>1~3</td>\n",
              "      <td>1</td>\n",
              "      <td>0</td>\n",
              "      <td>0</td>\n",
              "      <td>0</td>\n",
              "      <td>1</td>\n",
              "      <td>1</td>\n",
              "    </tr>\n",
              "    <tr>\n",
              "      <th>1</th>\n",
              "      <td>No Urgent Place</td>\n",
              "      <td>Friend(s)</td>\n",
              "      <td>Sunny</td>\n",
              "      <td>80</td>\n",
              "      <td>10AM</td>\n",
              "      <td>Coffee House</td>\n",
              "      <td>2h</td>\n",
              "      <td>Female</td>\n",
              "      <td>21</td>\n",
              "      <td>Unmarried partner</td>\n",
              "      <td>1</td>\n",
              "      <td>Some college - no degree</td>\n",
              "      <td>Unemployed</td>\n",
              "      <td>$37500 - $49999</td>\n",
              "      <td>never</td>\n",
              "      <td>never</td>\n",
              "      <td>1~3</td>\n",
              "      <td>4~8</td>\n",
              "      <td>1~3</td>\n",
              "      <td>1</td>\n",
              "      <td>0</td>\n",
              "      <td>0</td>\n",
              "      <td>0</td>\n",
              "      <td>1</td>\n",
              "      <td>0</td>\n",
              "    </tr>\n",
              "    <tr>\n",
              "      <th>2</th>\n",
              "      <td>No Urgent Place</td>\n",
              "      <td>Friend(s)</td>\n",
              "      <td>Sunny</td>\n",
              "      <td>80</td>\n",
              "      <td>10AM</td>\n",
              "      <td>Carry out &amp; Take away</td>\n",
              "      <td>2h</td>\n",
              "      <td>Female</td>\n",
              "      <td>21</td>\n",
              "      <td>Unmarried partner</td>\n",
              "      <td>1</td>\n",
              "      <td>Some college - no degree</td>\n",
              "      <td>Unemployed</td>\n",
              "      <td>$37500 - $49999</td>\n",
              "      <td>never</td>\n",
              "      <td>never</td>\n",
              "      <td>1~3</td>\n",
              "      <td>4~8</td>\n",
              "      <td>1~3</td>\n",
              "      <td>1</td>\n",
              "      <td>1</td>\n",
              "      <td>0</td>\n",
              "      <td>0</td>\n",
              "      <td>1</td>\n",
              "      <td>1</td>\n",
              "    </tr>\n",
              "    <tr>\n",
              "      <th>3</th>\n",
              "      <td>No Urgent Place</td>\n",
              "      <td>Friend(s)</td>\n",
              "      <td>Sunny</td>\n",
              "      <td>80</td>\n",
              "      <td>2PM</td>\n",
              "      <td>Coffee House</td>\n",
              "      <td>2h</td>\n",
              "      <td>Female</td>\n",
              "      <td>21</td>\n",
              "      <td>Unmarried partner</td>\n",
              "      <td>1</td>\n",
              "      <td>Some college - no degree</td>\n",
              "      <td>Unemployed</td>\n",
              "      <td>$37500 - $49999</td>\n",
              "      <td>never</td>\n",
              "      <td>never</td>\n",
              "      <td>1~3</td>\n",
              "      <td>4~8</td>\n",
              "      <td>1~3</td>\n",
              "      <td>1</td>\n",
              "      <td>1</td>\n",
              "      <td>0</td>\n",
              "      <td>0</td>\n",
              "      <td>1</td>\n",
              "      <td>0</td>\n",
              "    </tr>\n",
              "    <tr>\n",
              "      <th>4</th>\n",
              "      <td>No Urgent Place</td>\n",
              "      <td>Friend(s)</td>\n",
              "      <td>Sunny</td>\n",
              "      <td>80</td>\n",
              "      <td>2PM</td>\n",
              "      <td>Coffee House</td>\n",
              "      <td>1d</td>\n",
              "      <td>Female</td>\n",
              "      <td>21</td>\n",
              "      <td>Unmarried partner</td>\n",
              "      <td>1</td>\n",
              "      <td>Some college - no degree</td>\n",
              "      <td>Unemployed</td>\n",
              "      <td>$37500 - $49999</td>\n",
              "      <td>never</td>\n",
              "      <td>never</td>\n",
              "      <td>1~3</td>\n",
              "      <td>4~8</td>\n",
              "      <td>1~3</td>\n",
              "      <td>1</td>\n",
              "      <td>1</td>\n",
              "      <td>0</td>\n",
              "      <td>0</td>\n",
              "      <td>1</td>\n",
              "      <td>0</td>\n",
              "    </tr>\n",
              "    <tr>\n",
              "      <th>...</th>\n",
              "      <td>...</td>\n",
              "      <td>...</td>\n",
              "      <td>...</td>\n",
              "      <td>...</td>\n",
              "      <td>...</td>\n",
              "      <td>...</td>\n",
              "      <td>...</td>\n",
              "      <td>...</td>\n",
              "      <td>...</td>\n",
              "      <td>...</td>\n",
              "      <td>...</td>\n",
              "      <td>...</td>\n",
              "      <td>...</td>\n",
              "      <td>...</td>\n",
              "      <td>...</td>\n",
              "      <td>...</td>\n",
              "      <td>...</td>\n",
              "      <td>...</td>\n",
              "      <td>...</td>\n",
              "      <td>...</td>\n",
              "      <td>...</td>\n",
              "      <td>...</td>\n",
              "      <td>...</td>\n",
              "      <td>...</td>\n",
              "      <td>...</td>\n",
              "    </tr>\n",
              "    <tr>\n",
              "      <th>12679</th>\n",
              "      <td>Home</td>\n",
              "      <td>Partner</td>\n",
              "      <td>Rainy</td>\n",
              "      <td>55</td>\n",
              "      <td>6PM</td>\n",
              "      <td>Carry out &amp; Take away</td>\n",
              "      <td>1d</td>\n",
              "      <td>Male</td>\n",
              "      <td>26</td>\n",
              "      <td>Single</td>\n",
              "      <td>0</td>\n",
              "      <td>Bachelors degree</td>\n",
              "      <td>Sales &amp; Related</td>\n",
              "      <td>$75000 - $87499</td>\n",
              "      <td>never</td>\n",
              "      <td>never</td>\n",
              "      <td>1~3</td>\n",
              "      <td>4~8</td>\n",
              "      <td>1~3</td>\n",
              "      <td>1</td>\n",
              "      <td>0</td>\n",
              "      <td>0</td>\n",
              "      <td>1</td>\n",
              "      <td>0</td>\n",
              "      <td>1</td>\n",
              "    </tr>\n",
              "    <tr>\n",
              "      <th>12680</th>\n",
              "      <td>Work</td>\n",
              "      <td>Alone</td>\n",
              "      <td>Rainy</td>\n",
              "      <td>55</td>\n",
              "      <td>7AM</td>\n",
              "      <td>Carry out &amp; Take away</td>\n",
              "      <td>1d</td>\n",
              "      <td>Male</td>\n",
              "      <td>26</td>\n",
              "      <td>Single</td>\n",
              "      <td>0</td>\n",
              "      <td>Bachelors degree</td>\n",
              "      <td>Sales &amp; Related</td>\n",
              "      <td>$75000 - $87499</td>\n",
              "      <td>never</td>\n",
              "      <td>never</td>\n",
              "      <td>1~3</td>\n",
              "      <td>4~8</td>\n",
              "      <td>1~3</td>\n",
              "      <td>1</td>\n",
              "      <td>0</td>\n",
              "      <td>0</td>\n",
              "      <td>0</td>\n",
              "      <td>1</td>\n",
              "      <td>1</td>\n",
              "    </tr>\n",
              "    <tr>\n",
              "      <th>12681</th>\n",
              "      <td>Work</td>\n",
              "      <td>Alone</td>\n",
              "      <td>Snowy</td>\n",
              "      <td>30</td>\n",
              "      <td>7AM</td>\n",
              "      <td>Coffee House</td>\n",
              "      <td>1d</td>\n",
              "      <td>Male</td>\n",
              "      <td>26</td>\n",
              "      <td>Single</td>\n",
              "      <td>0</td>\n",
              "      <td>Bachelors degree</td>\n",
              "      <td>Sales &amp; Related</td>\n",
              "      <td>$75000 - $87499</td>\n",
              "      <td>never</td>\n",
              "      <td>never</td>\n",
              "      <td>1~3</td>\n",
              "      <td>4~8</td>\n",
              "      <td>1~3</td>\n",
              "      <td>1</td>\n",
              "      <td>0</td>\n",
              "      <td>0</td>\n",
              "      <td>1</td>\n",
              "      <td>0</td>\n",
              "      <td>0</td>\n",
              "    </tr>\n",
              "    <tr>\n",
              "      <th>12682</th>\n",
              "      <td>Work</td>\n",
              "      <td>Alone</td>\n",
              "      <td>Snowy</td>\n",
              "      <td>30</td>\n",
              "      <td>7AM</td>\n",
              "      <td>Bar</td>\n",
              "      <td>1d</td>\n",
              "      <td>Male</td>\n",
              "      <td>26</td>\n",
              "      <td>Single</td>\n",
              "      <td>0</td>\n",
              "      <td>Bachelors degree</td>\n",
              "      <td>Sales &amp; Related</td>\n",
              "      <td>$75000 - $87499</td>\n",
              "      <td>never</td>\n",
              "      <td>never</td>\n",
              "      <td>1~3</td>\n",
              "      <td>4~8</td>\n",
              "      <td>1~3</td>\n",
              "      <td>1</td>\n",
              "      <td>1</td>\n",
              "      <td>1</td>\n",
              "      <td>0</td>\n",
              "      <td>1</td>\n",
              "      <td>0</td>\n",
              "    </tr>\n",
              "    <tr>\n",
              "      <th>12683</th>\n",
              "      <td>Work</td>\n",
              "      <td>Alone</td>\n",
              "      <td>Sunny</td>\n",
              "      <td>80</td>\n",
              "      <td>7AM</td>\n",
              "      <td>Restaurant(20-50)</td>\n",
              "      <td>2h</td>\n",
              "      <td>Male</td>\n",
              "      <td>26</td>\n",
              "      <td>Single</td>\n",
              "      <td>0</td>\n",
              "      <td>Bachelors degree</td>\n",
              "      <td>Sales &amp; Related</td>\n",
              "      <td>$75000 - $87499</td>\n",
              "      <td>never</td>\n",
              "      <td>never</td>\n",
              "      <td>1~3</td>\n",
              "      <td>4~8</td>\n",
              "      <td>1~3</td>\n",
              "      <td>1</td>\n",
              "      <td>0</td>\n",
              "      <td>0</td>\n",
              "      <td>1</td>\n",
              "      <td>0</td>\n",
              "      <td>0</td>\n",
              "    </tr>\n",
              "  </tbody>\n",
              "</table>\n",
              "<p>12684 rows × 25 columns</p>\n",
              "</div>"
            ],
            "text/plain": [
              "           destination  passanger weather  ...  direction_same direction_opp  Y\n",
              "0      No Urgent Place      Alone   Sunny  ...               0             1  1\n",
              "1      No Urgent Place  Friend(s)   Sunny  ...               0             1  0\n",
              "2      No Urgent Place  Friend(s)   Sunny  ...               0             1  1\n",
              "3      No Urgent Place  Friend(s)   Sunny  ...               0             1  0\n",
              "4      No Urgent Place  Friend(s)   Sunny  ...               0             1  0\n",
              "...                ...        ...     ...  ...             ...           ... ..\n",
              "12679             Home    Partner   Rainy  ...               1             0  1\n",
              "12680             Work      Alone   Rainy  ...               0             1  1\n",
              "12681             Work      Alone   Snowy  ...               1             0  0\n",
              "12682             Work      Alone   Snowy  ...               0             1  0\n",
              "12683             Work      Alone   Sunny  ...               1             0  0\n",
              "\n",
              "[12684 rows x 25 columns]"
            ]
          },
          "metadata": {
            "tags": []
          },
          "execution_count": 8
        }
      ]
    },
    {
      "cell_type": "markdown",
      "metadata": {
        "id": "mQSstoKY5_zt"
      },
      "source": [
        "In above cell, we have removed 'car' feature as it contained so many null values near about equal to the total samples. In other features containing NaN values, we have replaced those values with the mode of that particular feature, since we are working on classification dataset."
      ]
    },
    {
      "cell_type": "code",
      "metadata": {
        "colab": {
          "base_uri": "https://localhost:8080/"
        },
        "id": "WLAmpiTnwWan",
        "outputId": "4ee3dffc-6d4e-4ec1-bbf7-7108771bee2c"
      },
      "source": [
        "data.isnull().sum()"
      ],
      "execution_count": 9,
      "outputs": [
        {
          "output_type": "execute_result",
          "data": {
            "text/plain": [
              "destination             0\n",
              "passanger               0\n",
              "weather                 0\n",
              "temperature             0\n",
              "time                    0\n",
              "coupon                  0\n",
              "expiration              0\n",
              "gender                  0\n",
              "age                     0\n",
              "maritalStatus           0\n",
              "has_children            0\n",
              "education               0\n",
              "occupation              0\n",
              "income                  0\n",
              "Bar                     0\n",
              "CoffeeHouse             0\n",
              "CarryAway               0\n",
              "RestaurantLessThan20    0\n",
              "Restaurant20To50        0\n",
              "toCoupon_GEQ5min        0\n",
              "toCoupon_GEQ15min       0\n",
              "toCoupon_GEQ25min       0\n",
              "direction_same          0\n",
              "direction_opp           0\n",
              "Y                       0\n",
              "dtype: int64"
            ]
          },
          "metadata": {
            "tags": []
          },
          "execution_count": 9
        }
      ]
    },
    {
      "cell_type": "markdown",
      "metadata": {
        "id": "z6MfZJV7-uLu"
      },
      "source": [
        "Now, the dataset is free from null values"
      ]
    },
    {
      "cell_type": "markdown",
      "metadata": {
        "id": "DMCVc1Lc-Mzx"
      },
      "source": [
        "### Label Encoding"
      ]
    },
    {
      "cell_type": "markdown",
      "metadata": {
        "id": "L990EKxm-Sk2"
      },
      "source": [
        "We have so many features of dtype='object' that are needed to be encoded to either integer or float format"
      ]
    },
    {
      "cell_type": "code",
      "metadata": {
        "colab": {
          "base_uri": "https://localhost:8080/",
          "height": 215
        },
        "id": "p4iCWDnj2D0a",
        "outputId": "5809ae0c-2956-4798-c137-2572ec3230f9"
      },
      "source": [
        "for col in features:\n",
        "  if data[col].dtypes=='O':\n",
        "    data[col] = LabelEncoder().fit_transform(data[col])\n",
        "data.head()"
      ],
      "execution_count": 10,
      "outputs": [
        {
          "output_type": "execute_result",
          "data": {
            "text/html": [
              "<div>\n",
              "<style scoped>\n",
              "    .dataframe tbody tr th:only-of-type {\n",
              "        vertical-align: middle;\n",
              "    }\n",
              "\n",
              "    .dataframe tbody tr th {\n",
              "        vertical-align: top;\n",
              "    }\n",
              "\n",
              "    .dataframe thead th {\n",
              "        text-align: right;\n",
              "    }\n",
              "</style>\n",
              "<table border=\"1\" class=\"dataframe\">\n",
              "  <thead>\n",
              "    <tr style=\"text-align: right;\">\n",
              "      <th></th>\n",
              "      <th>destination</th>\n",
              "      <th>passanger</th>\n",
              "      <th>weather</th>\n",
              "      <th>temperature</th>\n",
              "      <th>time</th>\n",
              "      <th>coupon</th>\n",
              "      <th>expiration</th>\n",
              "      <th>gender</th>\n",
              "      <th>age</th>\n",
              "      <th>maritalStatus</th>\n",
              "      <th>has_children</th>\n",
              "      <th>education</th>\n",
              "      <th>occupation</th>\n",
              "      <th>income</th>\n",
              "      <th>Bar</th>\n",
              "      <th>CoffeeHouse</th>\n",
              "      <th>CarryAway</th>\n",
              "      <th>RestaurantLessThan20</th>\n",
              "      <th>Restaurant20To50</th>\n",
              "      <th>toCoupon_GEQ5min</th>\n",
              "      <th>toCoupon_GEQ15min</th>\n",
              "      <th>toCoupon_GEQ25min</th>\n",
              "      <th>direction_same</th>\n",
              "      <th>direction_opp</th>\n",
              "      <th>Y</th>\n",
              "    </tr>\n",
              "  </thead>\n",
              "  <tbody>\n",
              "    <tr>\n",
              "      <th>0</th>\n",
              "      <td>1</td>\n",
              "      <td>0</td>\n",
              "      <td>2</td>\n",
              "      <td>55</td>\n",
              "      <td>2</td>\n",
              "      <td>4</td>\n",
              "      <td>0</td>\n",
              "      <td>0</td>\n",
              "      <td>0</td>\n",
              "      <td>3</td>\n",
              "      <td>1</td>\n",
              "      <td>5</td>\n",
              "      <td>24</td>\n",
              "      <td>3</td>\n",
              "      <td>4</td>\n",
              "      <td>4</td>\n",
              "      <td>0</td>\n",
              "      <td>1</td>\n",
              "      <td>0</td>\n",
              "      <td>1</td>\n",
              "      <td>0</td>\n",
              "      <td>0</td>\n",
              "      <td>0</td>\n",
              "      <td>1</td>\n",
              "      <td>1</td>\n",
              "    </tr>\n",
              "    <tr>\n",
              "      <th>1</th>\n",
              "      <td>1</td>\n",
              "      <td>1</td>\n",
              "      <td>2</td>\n",
              "      <td>80</td>\n",
              "      <td>0</td>\n",
              "      <td>2</td>\n",
              "      <td>1</td>\n",
              "      <td>0</td>\n",
              "      <td>0</td>\n",
              "      <td>3</td>\n",
              "      <td>1</td>\n",
              "      <td>5</td>\n",
              "      <td>24</td>\n",
              "      <td>3</td>\n",
              "      <td>4</td>\n",
              "      <td>4</td>\n",
              "      <td>0</td>\n",
              "      <td>1</td>\n",
              "      <td>0</td>\n",
              "      <td>1</td>\n",
              "      <td>0</td>\n",
              "      <td>0</td>\n",
              "      <td>0</td>\n",
              "      <td>1</td>\n",
              "      <td>0</td>\n",
              "    </tr>\n",
              "    <tr>\n",
              "      <th>2</th>\n",
              "      <td>1</td>\n",
              "      <td>1</td>\n",
              "      <td>2</td>\n",
              "      <td>80</td>\n",
              "      <td>0</td>\n",
              "      <td>1</td>\n",
              "      <td>1</td>\n",
              "      <td>0</td>\n",
              "      <td>0</td>\n",
              "      <td>3</td>\n",
              "      <td>1</td>\n",
              "      <td>5</td>\n",
              "      <td>24</td>\n",
              "      <td>3</td>\n",
              "      <td>4</td>\n",
              "      <td>4</td>\n",
              "      <td>0</td>\n",
              "      <td>1</td>\n",
              "      <td>0</td>\n",
              "      <td>1</td>\n",
              "      <td>1</td>\n",
              "      <td>0</td>\n",
              "      <td>0</td>\n",
              "      <td>1</td>\n",
              "      <td>1</td>\n",
              "    </tr>\n",
              "    <tr>\n",
              "      <th>3</th>\n",
              "      <td>1</td>\n",
              "      <td>1</td>\n",
              "      <td>2</td>\n",
              "      <td>80</td>\n",
              "      <td>2</td>\n",
              "      <td>2</td>\n",
              "      <td>1</td>\n",
              "      <td>0</td>\n",
              "      <td>0</td>\n",
              "      <td>3</td>\n",
              "      <td>1</td>\n",
              "      <td>5</td>\n",
              "      <td>24</td>\n",
              "      <td>3</td>\n",
              "      <td>4</td>\n",
              "      <td>4</td>\n",
              "      <td>0</td>\n",
              "      <td>1</td>\n",
              "      <td>0</td>\n",
              "      <td>1</td>\n",
              "      <td>1</td>\n",
              "      <td>0</td>\n",
              "      <td>0</td>\n",
              "      <td>1</td>\n",
              "      <td>0</td>\n",
              "    </tr>\n",
              "    <tr>\n",
              "      <th>4</th>\n",
              "      <td>1</td>\n",
              "      <td>1</td>\n",
              "      <td>2</td>\n",
              "      <td>80</td>\n",
              "      <td>2</td>\n",
              "      <td>2</td>\n",
              "      <td>0</td>\n",
              "      <td>0</td>\n",
              "      <td>0</td>\n",
              "      <td>3</td>\n",
              "      <td>1</td>\n",
              "      <td>5</td>\n",
              "      <td>24</td>\n",
              "      <td>3</td>\n",
              "      <td>4</td>\n",
              "      <td>4</td>\n",
              "      <td>0</td>\n",
              "      <td>1</td>\n",
              "      <td>0</td>\n",
              "      <td>1</td>\n",
              "      <td>1</td>\n",
              "      <td>0</td>\n",
              "      <td>0</td>\n",
              "      <td>1</td>\n",
              "      <td>0</td>\n",
              "    </tr>\n",
              "  </tbody>\n",
              "</table>\n",
              "</div>"
            ],
            "text/plain": [
              "   destination  passanger  weather  ...  direction_same  direction_opp  Y\n",
              "0            1          0        2  ...               0              1  1\n",
              "1            1          1        2  ...               0              1  0\n",
              "2            1          1        2  ...               0              1  1\n",
              "3            1          1        2  ...               0              1  0\n",
              "4            1          1        2  ...               0              1  0\n",
              "\n",
              "[5 rows x 25 columns]"
            ]
          },
          "metadata": {
            "tags": []
          },
          "execution_count": 10
        }
      ]
    },
    {
      "cell_type": "markdown",
      "metadata": {
        "id": "4h4ljIWE-5J5"
      },
      "source": [
        "### Understanding target feature"
      ]
    },
    {
      "cell_type": "code",
      "metadata": {
        "colab": {
          "base_uri": "https://localhost:8080/",
          "height": 332
        },
        "id": "aGCSGo-rhLs8",
        "outputId": "da760eae-7427-4c3f-c706-d041d9a55ca7"
      },
      "source": [
        "target = 'Y'\n",
        "sns.barplot(x = (data[target].unique()), y = data[target].value_counts().values)\n",
        "plt.legend()\n",
        "print(data[target].value_counts())\n"
      ],
      "execution_count": 11,
      "outputs": [
        {
          "output_type": "stream",
          "text": [
            "No handles with labels found to put in legend.\n"
          ],
          "name": "stderr"
        },
        {
          "output_type": "stream",
          "text": [
            "1    7210\n",
            "0    5474\n",
            "Name: Y, dtype: int64\n"
          ],
          "name": "stdout"
        },
        {
          "output_type": "display_data",
          "data": {
            "image/png": "[encoded data removed]",
            "text/plain": [
              "<Figure size 432x288 with 1 Axes>"
            ]
          },
          "metadata": {
            "tags": [],
            "needs_background": "light"
          }
        }
      ]
    },
    {
      "cell_type": "markdown",
      "metadata": {
        "id": "ujVoYnfJ--NB"
      },
      "source": [
        "In total, we have 2 classes in target features('Y')\n",
        "\n",
        "\n",
        "*   1; representes the coupon will be accepted\n",
        "*   0; representes the coupon will not be accepted\n",
        "\n",
        "Here, we have observed that we have more instances of the scenario where the coupon will be accepted.\n",
        "\n"
      ]
    },
    {
      "cell_type": "markdown",
      "metadata": {
        "id": "I8Jfy6bU_mZt"
      },
      "source": [
        "### Exploring all features"
      ]
    },
    {
      "cell_type": "code",
      "metadata": {
        "colab": {
          "base_uri": "https://localhost:8080/",
          "height": 1000
        },
        "id": "A-yQEyUxjES_",
        "outputId": "609fb4ac-e1f7-4598-eed5-d5213c5263ba"
      },
      "source": [
        "plt.figure(figsize = (12,28))\n",
        "for a, col in enumerate(data.columns.difference([target])):\n",
        "    plt.subplot(13, 2, a+1)\n",
        "    plt.subplots_adjust(wspace = .5, hspace = 1)\n",
        "    sns.countplot(x = col, data = data, hue = target)\n",
        "    plt.tight_layout()\n",
        "\n",
        "\n",
        "        "
      ],
      "execution_count": 12,
      "outputs": [
        {
          "output_type": "display_data",
          "data": {
            "image/png": "[encoded data removed]",
            "text/plain": [
              "<Figure size 864x2016 with 24 Axes>"
            ]
          },
          "metadata": {
            "tags": [],
            "needs_background": "light"
          }
        }
      ]
    },
    {
      "cell_type": "markdown",
      "metadata": {
        "id": "_4m4QpKY_y7n"
      },
      "source": [
        "### Features observation:\n",
        "- People visits the bar rarely or never, therefore they accepts coupon \n",
        "- many people don't prefer to go coffee house but they accepts coupon\n",
        "- younger people whose age is arounng 20-40 accepts coupon\n",
        "- Acceptance of coupons also depending upon the weather condition; especially in snowy weather\n",
        "- people who are singles or married accepts the coupon\n",
        "- people who are alone accepts the coupon, etc\n",
        "\n",
        "There are many more features all seems important for the clasification or training of model but to reduce the overfitting, we are going to select a subset of most relevant features,"
      ]
    },
    {
      "cell_type": "markdown",
      "metadata": {
        "id": "xom_29fgCYb-"
      },
      "source": [
        "## Feature Selection"
      ]
    },
    {
      "cell_type": "code",
      "metadata": {
        "colab": {
          "base_uri": "https://localhost:8080/",
          "height": 522
        },
        "id": "Z0n_QfICBoyF",
        "outputId": "0f71e508-5d0e-4247-a3c9-629568f7e12c"
      },
      "source": [
        "#selecting most relevant features from classification dataset\n",
        "X = data.drop(target, axis=1)\n",
        "y = data[target]\n",
        "bestfeatures = ExtraTreesClassifier()\n",
        "bestfeatures.fit(X,y)\n",
        "feat_importances = pd.Series(bestfeatures.feature_importances_,index=X.columns)\n",
        "best_features = feat_importances.nlargest(16)\n",
        "best_features = [feat for feat in best_features.index]\n",
        "bestfeatures_data = data[best_features]\n",
        "bestfeatures_data[target] = data[target]\n",
        "bestfeatures_data = shuffle(bestfeatures_data)    \n",
        "bestfeatures_data.reset_index(inplace=True, drop=True)\n",
        "\n",
        "bestfeatures_data"
      ],
      "execution_count": 13,
      "outputs": [
        {
          "output_type": "stream",
          "text": [
            "/usr/local/lib/python3.7/dist-packages/ipykernel_launcher.py:10: SettingWithCopyWarning: \n",
            "A value is trying to be set on a copy of a slice from a DataFrame.\n",
            "Try using .loc[row_indexer,col_indexer] = value instead\n",
            "\n",
            "See the caveats in the documentation: https://pandas.pydata.org/pandas-docs/stable/user_guide/indexing.html#returning-a-view-versus-a-copy\n",
            "  # Remove the CWD from sys.path while we load stuff.\n"
          ],
          "name": "stderr"
        },
        {
          "output_type": "execute_result",
          "data": {
            "text/html": [
              "<div>\n",
              "<style scoped>\n",
              "    .dataframe tbody tr th:only-of-type {\n",
              "        vertical-align: middle;\n",
              "    }\n",
              "\n",
              "    .dataframe tbody tr th {\n",
              "        vertical-align: top;\n",
              "    }\n",
              "\n",
              "    .dataframe thead th {\n",
              "        text-align: right;\n",
              "    }\n",
              "</style>\n",
              "<table border=\"1\" class=\"dataframe\">\n",
              "  <thead>\n",
              "    <tr style=\"text-align: right;\">\n",
              "      <th></th>\n",
              "      <th>coupon</th>\n",
              "      <th>occupation</th>\n",
              "      <th>income</th>\n",
              "      <th>CoffeeHouse</th>\n",
              "      <th>age</th>\n",
              "      <th>time</th>\n",
              "      <th>Bar</th>\n",
              "      <th>education</th>\n",
              "      <th>CarryAway</th>\n",
              "      <th>RestaurantLessThan20</th>\n",
              "      <th>Restaurant20To50</th>\n",
              "      <th>maritalStatus</th>\n",
              "      <th>temperature</th>\n",
              "      <th>passanger</th>\n",
              "      <th>expiration</th>\n",
              "      <th>destination</th>\n",
              "      <th>Y</th>\n",
              "    </tr>\n",
              "  </thead>\n",
              "  <tbody>\n",
              "    <tr>\n",
              "      <th>0</th>\n",
              "      <td>4</td>\n",
              "      <td>21</td>\n",
              "      <td>3</td>\n",
              "      <td>3</td>\n",
              "      <td>0</td>\n",
              "      <td>2</td>\n",
              "      <td>4</td>\n",
              "      <td>3</td>\n",
              "      <td>1</td>\n",
              "      <td>1</td>\n",
              "      <td>3</td>\n",
              "      <td>3</td>\n",
              "      <td>55</td>\n",
              "      <td>3</td>\n",
              "      <td>1</td>\n",
              "      <td>1</td>\n",
              "      <td>1</td>\n",
              "    </tr>\n",
              "    <tr>\n",
              "      <th>1</th>\n",
              "      <td>2</td>\n",
              "      <td>3</td>\n",
              "      <td>6</td>\n",
              "      <td>3</td>\n",
              "      <td>3</td>\n",
              "      <td>0</td>\n",
              "      <td>3</td>\n",
              "      <td>1</td>\n",
              "      <td>1</td>\n",
              "      <td>0</td>\n",
              "      <td>0</td>\n",
              "      <td>1</td>\n",
              "      <td>80</td>\n",
              "      <td>0</td>\n",
              "      <td>0</td>\n",
              "      <td>1</td>\n",
              "      <td>1</td>\n",
              "    </tr>\n",
              "    <tr>\n",
              "      <th>2</th>\n",
              "      <td>2</td>\n",
              "      <td>24</td>\n",
              "      <td>3</td>\n",
              "      <td>4</td>\n",
              "      <td>6</td>\n",
              "      <td>0</td>\n",
              "      <td>4</td>\n",
              "      <td>5</td>\n",
              "      <td>1</td>\n",
              "      <td>0</td>\n",
              "      <td>3</td>\n",
              "      <td>0</td>\n",
              "      <td>55</td>\n",
              "      <td>0</td>\n",
              "      <td>0</td>\n",
              "      <td>1</td>\n",
              "      <td>0</td>\n",
              "    </tr>\n",
              "    <tr>\n",
              "      <th>3</th>\n",
              "      <td>0</td>\n",
              "      <td>5</td>\n",
              "      <td>4</td>\n",
              "      <td>4</td>\n",
              "      <td>0</td>\n",
              "      <td>4</td>\n",
              "      <td>4</td>\n",
              "      <td>2</td>\n",
              "      <td>0</td>\n",
              "      <td>3</td>\n",
              "      <td>4</td>\n",
              "      <td>2</td>\n",
              "      <td>55</td>\n",
              "      <td>0</td>\n",
              "      <td>0</td>\n",
              "      <td>2</td>\n",
              "      <td>0</td>\n",
              "    </tr>\n",
              "    <tr>\n",
              "      <th>4</th>\n",
              "      <td>2</td>\n",
              "      <td>11</td>\n",
              "      <td>8</td>\n",
              "      <td>0</td>\n",
              "      <td>7</td>\n",
              "      <td>2</td>\n",
              "      <td>4</td>\n",
              "      <td>5</td>\n",
              "      <td>3</td>\n",
              "      <td>1</td>\n",
              "      <td>3</td>\n",
              "      <td>2</td>\n",
              "      <td>30</td>\n",
              "      <td>3</td>\n",
              "      <td>1</td>\n",
              "      <td>1</td>\n",
              "      <td>0</td>\n",
              "    </tr>\n",
              "    <tr>\n",
              "      <th>...</th>\n",
              "      <td>...</td>\n",
              "      <td>...</td>\n",
              "      <td>...</td>\n",
              "      <td>...</td>\n",
              "      <td>...</td>\n",
              "      <td>...</td>\n",
              "      <td>...</td>\n",
              "      <td>...</td>\n",
              "      <td>...</td>\n",
              "      <td>...</td>\n",
              "      <td>...</td>\n",
              "      <td>...</td>\n",
              "      <td>...</td>\n",
              "      <td>...</td>\n",
              "      <td>...</td>\n",
              "      <td>...</td>\n",
              "      <td>...</td>\n",
              "    </tr>\n",
              "    <tr>\n",
              "      <th>12679</th>\n",
              "      <td>0</td>\n",
              "      <td>1</td>\n",
              "      <td>0</td>\n",
              "      <td>0</td>\n",
              "      <td>3</td>\n",
              "      <td>0</td>\n",
              "      <td>3</td>\n",
              "      <td>1</td>\n",
              "      <td>1</td>\n",
              "      <td>0</td>\n",
              "      <td>0</td>\n",
              "      <td>1</td>\n",
              "      <td>80</td>\n",
              "      <td>0</td>\n",
              "      <td>0</td>\n",
              "      <td>1</td>\n",
              "      <td>0</td>\n",
              "    </tr>\n",
              "    <tr>\n",
              "      <th>12680</th>\n",
              "      <td>1</td>\n",
              "      <td>21</td>\n",
              "      <td>2</td>\n",
              "      <td>3</td>\n",
              "      <td>5</td>\n",
              "      <td>0</td>\n",
              "      <td>3</td>\n",
              "      <td>5</td>\n",
              "      <td>0</td>\n",
              "      <td>3</td>\n",
              "      <td>4</td>\n",
              "      <td>1</td>\n",
              "      <td>80</td>\n",
              "      <td>2</td>\n",
              "      <td>1</td>\n",
              "      <td>1</td>\n",
              "      <td>1</td>\n",
              "    </tr>\n",
              "    <tr>\n",
              "      <th>12681</th>\n",
              "      <td>4</td>\n",
              "      <td>24</td>\n",
              "      <td>0</td>\n",
              "      <td>3</td>\n",
              "      <td>5</td>\n",
              "      <td>2</td>\n",
              "      <td>4</td>\n",
              "      <td>2</td>\n",
              "      <td>3</td>\n",
              "      <td>0</td>\n",
              "      <td>3</td>\n",
              "      <td>3</td>\n",
              "      <td>55</td>\n",
              "      <td>3</td>\n",
              "      <td>1</td>\n",
              "      <td>1</td>\n",
              "      <td>1</td>\n",
              "    </tr>\n",
              "    <tr>\n",
              "      <th>12682</th>\n",
              "      <td>4</td>\n",
              "      <td>24</td>\n",
              "      <td>1</td>\n",
              "      <td>3</td>\n",
              "      <td>1</td>\n",
              "      <td>0</td>\n",
              "      <td>4</td>\n",
              "      <td>5</td>\n",
              "      <td>0</td>\n",
              "      <td>1</td>\n",
              "      <td>3</td>\n",
              "      <td>3</td>\n",
              "      <td>80</td>\n",
              "      <td>3</td>\n",
              "      <td>1</td>\n",
              "      <td>1</td>\n",
              "      <td>1</td>\n",
              "    </tr>\n",
              "    <tr>\n",
              "      <th>12683</th>\n",
              "      <td>4</td>\n",
              "      <td>22</td>\n",
              "      <td>1</td>\n",
              "      <td>4</td>\n",
              "      <td>0</td>\n",
              "      <td>0</td>\n",
              "      <td>4</td>\n",
              "      <td>5</td>\n",
              "      <td>0</td>\n",
              "      <td>0</td>\n",
              "      <td>3</td>\n",
              "      <td>2</td>\n",
              "      <td>30</td>\n",
              "      <td>0</td>\n",
              "      <td>0</td>\n",
              "      <td>1</td>\n",
              "      <td>0</td>\n",
              "    </tr>\n",
              "  </tbody>\n",
              "</table>\n",
              "<p>12684 rows × 17 columns</p>\n",
              "</div>"
            ],
            "text/plain": [
              "       coupon  occupation  income  ...  expiration  destination  Y\n",
              "0           4          21       3  ...           1            1  1\n",
              "1           2           3       6  ...           0            1  1\n",
              "2           2          24       3  ...           0            1  0\n",
              "3           0           5       4  ...           0            2  0\n",
              "4           2          11       8  ...           1            1  0\n",
              "...       ...         ...     ...  ...         ...          ... ..\n",
              "12679       0           1       0  ...           0            1  0\n",
              "12680       1          21       2  ...           1            1  1\n",
              "12681       4          24       0  ...           1            1  1\n",
              "12682       4          24       1  ...           1            1  1\n",
              "12683       4          22       1  ...           0            1  0\n",
              "\n",
              "[12684 rows x 17 columns]"
            ]
          },
          "metadata": {
            "tags": []
          },
          "execution_count": 13
        }
      ]
    },
    {
      "cell_type": "markdown",
      "metadata": {
        "id": "cFCI_o_yDw5f"
      },
      "source": [
        "Using feature selection, we have selected 16 most relevant features from the dataset and prepared a dataframe along with target feature."
      ]
    },
    {
      "cell_type": "markdown",
      "metadata": {
        "id": "uqbhve40EGEg"
      },
      "source": [
        "### Splitting dataset into training and testing data"
      ]
    },
    {
      "cell_type": "code",
      "metadata": {
        "id": "8ilDYdfoCwnx"
      },
      "source": [
        "X = bestfeatures_data.drop(target, axis=1)\n",
        "y = bestfeatures_data[target]"
      ],
      "execution_count": 14,
      "outputs": []
    },
    {
      "cell_type": "code",
      "metadata": {
        "id": "-4jNsbe-DxER"
      },
      "source": [
        "X_train, X_test, y_train, y_test = train_test_split(X, y, test_size = 0.2, random_state = 42)"
      ],
      "execution_count": 15,
      "outputs": []
    },
    {
      "cell_type": "markdown",
      "metadata": {
        "id": "v7lx7tKcERJy"
      },
      "source": [
        "## Preparing models"
      ]
    },
    {
      "cell_type": "markdown",
      "metadata": {
        "id": "PRPHB80REV9U"
      },
      "source": [
        "### Decision Tree Classifier"
      ]
    },
    {
      "cell_type": "code",
      "metadata": {
        "id": "qDrTcp2TED78",
        "colab": {
          "base_uri": "https://localhost:8080/"
        },
        "outputId": "53419b2a-ed74-4b18-c529-83866df172a4"
      },
      "source": [
        "#model instatiation and fitting\n",
        "tree_classifier = DecisionTreeClassifier()\n",
        "tree_classifier.fit(X_train, y_train)"
      ],
      "execution_count": 16,
      "outputs": [
        {
          "output_type": "execute_result",
          "data": {
            "text/plain": [
              "DecisionTreeClassifier(ccp_alpha=0.0, class_weight=None, criterion='gini',\n",
              "                       max_depth=None, max_features=None, max_leaf_nodes=None,\n",
              "                       min_impurity_decrease=0.0, min_impurity_split=None,\n",
              "                       min_samples_leaf=1, min_samples_split=2,\n",
              "                       min_weight_fraction_leaf=0.0, presort='deprecated',\n",
              "                       random_state=None, splitter='best')"
            ]
          },
          "metadata": {
            "tags": []
          },
          "execution_count": 16
        }
      ]
    },
    {
      "cell_type": "markdown",
      "metadata": {
        "id": "XDCXw_XqEm7L"
      },
      "source": [
        "#### Decision Tree Classifier prediction"
      ]
    },
    {
      "cell_type": "code",
      "metadata": {
        "id": "G2TRk2slGrih"
      },
      "source": [
        "#prediction over training data\n",
        "tree_train_pred = tree_classifier.predict(X_train)\n",
        "\n",
        "#prediction over testing data\n",
        "tree_test_pred = tree_classifier.predict(X_test)"
      ],
      "execution_count": 17,
      "outputs": []
    },
    {
      "cell_type": "markdown",
      "metadata": {
        "id": "Kj852FvRE5Db"
      },
      "source": [
        "### Decision Tree Classifier's Evaluation"
      ]
    },
    {
      "cell_type": "code",
      "metadata": {
        "id": "3aKRgKm9HAwB"
      },
      "source": [
        "#log_loss estimation\n",
        "tree_logloss = log_loss(y_test, tree_classifier.predict_proba(X_test))"
      ],
      "execution_count": 18,
      "outputs": []
    },
    {
      "cell_type": "code",
      "metadata": {
        "colab": {
          "base_uri": "https://localhost:8080/"
        },
        "id": "cuhvXZCtA3uh",
        "outputId": "63a2c9b4-627d-4624-af07-0cd6304262fa"
      },
      "source": [
        "print(\"Model Performance\")\n",
        "print(\"--------------------------------------------\")\n",
        "print(\"Train Dataset\")\n",
        "print(\"Accuracy : \", accuracy_score(y_train, tree_train_pred))\n",
        "print(\"AUC      : \", roc_auc_score(y_train, tree_train_pred))\n",
        "\n",
        "print(\"--------------------------------------------\")\n",
        "\n",
        "print(\"Test Dataset\")\n",
        "tree_accuracy = accuracy_score(y_test, tree_test_pred)\n",
        "print(\"Accuracy : \", tree_accuracy)\n",
        "print(\"AUC      : \", roc_auc_score(y_test, tree_test_pred))\n",
        "\n",
        "print(\"--------------------------------------------\")\n",
        "print(\"Log Loss : \", tree_logloss)"
      ],
      "execution_count": 19,
      "outputs": [
        {
          "output_type": "stream",
          "text": [
            "Model Performance\n",
            "--------------------------------------------\n",
            "Train Dataset\n",
            "Accuracy :  0.9892579087415\n",
            "AUC      :  0.9904633718127961\n",
            "--------------------------------------------\n",
            "Test Dataset\n",
            "Accuracy :  0.6925502562081198\n",
            "AUC      :  0.6874738789244745\n",
            "--------------------------------------------\n",
            "Log Loss :  10.527738021669041\n"
          ],
          "name": "stdout"
        }
      ]
    },
    {
      "cell_type": "markdown",
      "metadata": {
        "id": "fI-0nu3fFR_J"
      },
      "source": [
        "#### Decision Tree Classifier's Confusion Matrix"
      ]
    },
    {
      "cell_type": "code",
      "metadata": {
        "colab": {
          "base_uri": "https://localhost:8080/",
          "height": 296
        },
        "id": "xaUqFKZuHWPn",
        "outputId": "bb4d27bb-18ec-47c9-adf2-9f9aeefd0ef8"
      },
      "source": [
        "plot_confusion_matrix(estimator=tree_classifier, X=X_test, y_true=y_test, labels=[1,0], cmap='Greens')"
      ],
      "execution_count": 20,
      "outputs": [
        {
          "output_type": "execute_result",
          "data": {
            "text/plain": [
              "<sklearn.metrics._plot.confusion_matrix.ConfusionMatrixDisplay at 0x7f3c7c372650>"
            ]
          },
          "metadata": {
            "tags": []
          },
          "execution_count": 20
        },
        {
          "output_type": "display_data",
          "data": {
            "image/png": "[encoded data removed]",
            "text/plain": [
              "<Figure size 432x288 with 2 Axes>"
            ]
          },
          "metadata": {
            "tags": [],
            "needs_background": "light"
          }
        }
      ]
    },
    {
      "cell_type": "markdown",
      "metadata": {
        "id": "KCQT3enUJ22t"
      },
      "source": [
        "Confusion matrix; showing true and false predictive values"
      ]
    },
    {
      "cell_type": "markdown",
      "metadata": {
        "id": "jmwqaMrCKLtX"
      },
      "source": [
        "#### Decision Tree Classifier's ROC curve"
      ]
    },
    {
      "cell_type": "code",
      "metadata": {
        "colab": {
          "base_uri": "https://localhost:8080/",
          "height": 296
        },
        "id": "4HQxjovAIF4F",
        "outputId": "b6123d61-963b-4cd4-f946-d365b43e3ca3"
      },
      "source": [
        "fp, tp, thresh = roc_curve(y_test, tree_test_pred)\n",
        "plt.plot(fp, tp, color='red', label='ROC', )\n",
        "plt.plot([0,1],[0,1], color='blue', linestyle='--')\n",
        "plt.xlabel('False Positive Rate')\n",
        "plt.ylabel('True Positive Rate')\n",
        "plt.legend()"
      ],
      "execution_count": 21,
      "outputs": [
        {
          "output_type": "execute_result",
          "data": {
            "text/plain": [
              "<matplotlib.legend.Legend at 0x7f3c7c28c4d0>"
            ]
          },
          "metadata": {
            "tags": []
          },
          "execution_count": 21
        },
        {
          "output_type": "display_data",
          "data": {
            "image/png": "[encoded data removed]",
            "text/plain": [
              "<Figure size 432x288 with 1 Axes>"
            ]
          },
          "metadata": {
            "tags": [],
            "needs_background": "light"
          }
        }
      ]
    },
    {
      "cell_type": "markdown",
      "metadata": {
        "id": "jkIiugkCKaug"
      },
      "source": [
        "### XG Boost Classifier"
      ]
    },
    {
      "cell_type": "code",
      "metadata": {
        "colab": {
          "base_uri": "https://localhost:8080/"
        },
        "id": "xi7-yAzoWkur",
        "outputId": "938cc415-59a5-4763-fa03-6a75a2c8d5bf"
      },
      "source": [
        "#model instatiation and fitting\n",
        "xgb_classifier = XGBClassifier()\n",
        "xgb_classifier.fit(X_train, y_train)"
      ],
      "execution_count": 22,
      "outputs": [
        {
          "output_type": "execute_result",
          "data": {
            "text/plain": [
              "XGBClassifier(base_score=0.5, booster='gbtree', colsample_bylevel=1,\n",
              "              colsample_bynode=1, colsample_bytree=1, gamma=0,\n",
              "              learning_rate=0.1, max_delta_step=0, max_depth=3,\n",
              "              min_child_weight=1, missing=None, n_estimators=100, n_jobs=1,\n",
              "              nthread=None, objective='binary:logistic', random_state=0,\n",
              "              reg_alpha=0, reg_lambda=1, scale_pos_weight=1, seed=None,\n",
              "              silent=None, subsample=1, verbosity=1)"
            ]
          },
          "metadata": {
            "tags": []
          },
          "execution_count": 22
        }
      ]
    },
    {
      "cell_type": "markdown",
      "metadata": {
        "id": "9_os1C7cLL1N"
      },
      "source": [
        "#### XG Boost Classifier's Prediction"
      ]
    },
    {
      "cell_type": "code",
      "metadata": {
        "id": "lawhNPNluw6V"
      },
      "source": [
        "#prediction over training data\n",
        "xgb_train_pred = xgb_classifier.predict(X_train)\n",
        "\n",
        "#prediction over testing data\n",
        "xgb_test_pred = xgb_classifier.predict(X_test)"
      ],
      "execution_count": 23,
      "outputs": []
    },
    {
      "cell_type": "markdown",
      "metadata": {
        "id": "FosWz5ilLIOu"
      },
      "source": [
        "### XG Boost Classifier's Evaluation"
      ]
    },
    {
      "cell_type": "code",
      "metadata": {
        "id": "of2Dh1o3viAo"
      },
      "source": [
        "xgb_logloss = log_loss(y_test, xgb_classifier.predict_proba(X_test))"
      ],
      "execution_count": 24,
      "outputs": []
    },
    {
      "cell_type": "code",
      "metadata": {
        "colab": {
          "base_uri": "https://localhost:8080/"
        },
        "id": "GF-BnchGvebK",
        "outputId": "51de0487-4deb-4c6d-e0bc-4ebde2402714"
      },
      "source": [
        "print(\"Model Performance\")\n",
        "print(\"--------------------------------------------\")\n",
        "print(\"Train Dataset\")\n",
        "print(\"Accuracy : \", accuracy_score(y_train, xgb_train_pred))\n",
        "print(\"AUC      : \", roc_auc_score(y_train, xgb_train_pred))\n",
        "\n",
        "print(\"--------------------------------------------\")\n",
        "\n",
        "print(\"Test Dataset\")\n",
        "xgb_accuracy = accuracy_score(y_test, xgb_test_pred)\n",
        "print(\"Accuracy : \", xgb_accuracy)\n",
        "print(\"AUC      : \", roc_auc_score(y_test, xgb_test_pred))\n",
        "\n",
        "print(\"--------------------------------------------\")\n",
        "print(\"Log Loss : \", xgb_logloss)"
      ],
      "execution_count": 25,
      "outputs": [
        {
          "output_type": "stream",
          "text": [
            "Model Performance\n",
            "--------------------------------------------\n",
            "Train Dataset\n",
            "Accuracy :  0.7320390263131961\n",
            "AUC      :  0.7160531920339857\n",
            "--------------------------------------------\n",
            "Test Dataset\n",
            "Accuracy :  0.7256602286164762\n",
            "AUC      :  0.7109023529486038\n",
            "--------------------------------------------\n",
            "Log Loss :  0.5581544856439907\n"
          ],
          "name": "stdout"
        }
      ]
    },
    {
      "cell_type": "markdown",
      "metadata": {
        "id": "FSiPv6qHMYlB"
      },
      "source": [
        "#### XG Boost Classifier's Confusion Matrix"
      ]
    },
    {
      "cell_type": "code",
      "metadata": {
        "colab": {
          "base_uri": "https://localhost:8080/",
          "height": 296
        },
        "id": "KYWSDhORwEx0",
        "outputId": "0a69792f-f012-4b73-e108-4b5f1002279b"
      },
      "source": [
        "plot_confusion_matrix(estimator=xgb_classifier, X=X_test, y_true=y_test, labels=[1,0], cmap='Greens')"
      ],
      "execution_count": 26,
      "outputs": [
        {
          "output_type": "execute_result",
          "data": {
            "text/plain": [
              "<sklearn.metrics._plot.confusion_matrix.ConfusionMatrixDisplay at 0x7f3c7a9e3910>"
            ]
          },
          "metadata": {
            "tags": []
          },
          "execution_count": 26
        },
        {
          "output_type": "display_data",
          "data": {
            "image/png": "[encoded data removed]",
            "text/plain": [
              "<Figure size 432x288 with 2 Axes>"
            ]
          },
          "metadata": {
            "tags": [],
            "needs_background": "light"
          }
        }
      ]
    },
    {
      "cell_type": "markdown",
      "metadata": {
        "id": "RvD8l68CMzl2"
      },
      "source": [
        "#### XG Boost Classifier's ROC score"
      ]
    },
    {
      "cell_type": "code",
      "metadata": {
        "colab": {
          "base_uri": "https://localhost:8080/",
          "height": 296
        },
        "id": "BgHZjzP1wIgz",
        "outputId": "19ffde92-3d2f-472a-91d7-7f747071ffa8"
      },
      "source": [
        "fp, tp, thresh = roc_curve(y_test, xgb_test_pred)\n",
        "plt.plot(fp, tp, color='red', label='ROC', )\n",
        "plt.plot([0,1],[0,1], color='blue', linestyle='--')\n",
        "plt.xlabel('False Positive Rate')\n",
        "plt.ylabel('True Positive Rate')\n",
        "plt.legend()"
      ],
      "execution_count": 27,
      "outputs": [
        {
          "output_type": "execute_result",
          "data": {
            "text/plain": [
              "<matplotlib.legend.Legend at 0x7f3c7a898690>"
            ]
          },
          "metadata": {
            "tags": []
          },
          "execution_count": 27
        },
        {
          "output_type": "display_data",
          "data": {
            "image/png": "[encoded data removed]",
            "text/plain": [
              "<Figure size 432x288 with 1 Axes>"
            ]
          },
          "metadata": {
            "tags": [],
            "needs_background": "light"
          }
        }
      ]
    },
    {
      "cell_type": "markdown",
      "metadata": {
        "id": "mVU4dl4VNHfu"
      },
      "source": [
        "### Artificial Neural Network"
      ]
    },
    {
      "cell_type": "code",
      "metadata": {
        "colab": {
          "base_uri": "https://localhost:8080/"
        },
        "id": "-GoHjbq3xLBM",
        "outputId": "6411bc9f-28df-4719-f374-c63387aa60f9"
      },
      "source": [
        "ann_model = Sequential()\n",
        "#Adding input layer of ann\n",
        "ann_model.add(Dense(16, activation = 'relu', input_dim = 16))\n",
        "\n",
        "#Adding hidden layers\n",
        "ann_model.add(Dense(32, activation = 'relu'))\n",
        "ann_model.add(Dense(128, activation = 'relu'))\n",
        "ann_model.add(Dropout(0.6))\n",
        "ann_model.add(Dense(256, activation = 'relu'))\n",
        "\n",
        "#Adding output layer\n",
        "ann_model.add(Dense(1, activation = 'sigmoid'))\n",
        "\n",
        "ann_model.compile(optimizer = 'adam', loss = 'binary_crossentropy', metrics = ['accuracy'])\n",
        "history = ann_model.fit(X_train, y_train, epochs = 20, batch_size = 32, validation_data = (X_test, y_test))"
      ],
      "execution_count": 28,
      "outputs": [
        {
          "output_type": "stream",
          "text": [
            "Epoch 1/20\n",
            "318/318 [==============================] - 2s 4ms/step - loss: 0.8837 - accuracy: 0.5210 - val_loss: 0.6819 - val_accuracy: 0.5625\n",
            "Epoch 2/20\n",
            "318/318 [==============================] - 1s 3ms/step - loss: 0.6889 - accuracy: 0.5596 - val_loss: 0.6775 - val_accuracy: 0.5617\n",
            "Epoch 3/20\n",
            "318/318 [==============================] - 1s 3ms/step - loss: 0.6765 - accuracy: 0.5829 - val_loss: 0.6683 - val_accuracy: 0.5995\n",
            "Epoch 4/20\n",
            "318/318 [==============================] - 1s 3ms/step - loss: 0.6636 - accuracy: 0.5950 - val_loss: 0.6656 - val_accuracy: 0.6031\n",
            "Epoch 5/20\n",
            "318/318 [==============================] - 1s 3ms/step - loss: 0.6694 - accuracy: 0.5861 - val_loss: 0.6582 - val_accuracy: 0.5991\n",
            "Epoch 6/20\n",
            "318/318 [==============================] - 1s 3ms/step - loss: 0.6565 - accuracy: 0.5998 - val_loss: 0.6571 - val_accuracy: 0.6094\n",
            "Epoch 7/20\n",
            "318/318 [==============================] - 1s 3ms/step - loss: 0.6600 - accuracy: 0.5980 - val_loss: 0.6576 - val_accuracy: 0.6027\n",
            "Epoch 8/20\n",
            "318/318 [==============================] - 1s 3ms/step - loss: 0.6459 - accuracy: 0.6133 - val_loss: 0.6546 - val_accuracy: 0.6066\n",
            "Epoch 9/20\n",
            "318/318 [==============================] - 1s 3ms/step - loss: 0.6507 - accuracy: 0.6212 - val_loss: 0.6532 - val_accuracy: 0.6133\n",
            "Epoch 10/20\n",
            "318/318 [==============================] - 1s 3ms/step - loss: 0.6379 - accuracy: 0.6269 - val_loss: 0.6623 - val_accuracy: 0.6082\n",
            "Epoch 11/20\n",
            "318/318 [==============================] - 1s 3ms/step - loss: 0.6470 - accuracy: 0.6278 - val_loss: 0.6543 - val_accuracy: 0.6157\n",
            "Epoch 12/20\n",
            "318/318 [==============================] - 1s 3ms/step - loss: 0.6416 - accuracy: 0.6338 - val_loss: 0.6539 - val_accuracy: 0.6169\n",
            "Epoch 13/20\n",
            "318/318 [==============================] - 1s 3ms/step - loss: 0.6464 - accuracy: 0.6245 - val_loss: 0.6497 - val_accuracy: 0.6248\n",
            "Epoch 14/20\n",
            "318/318 [==============================] - 1s 3ms/step - loss: 0.6368 - accuracy: 0.6360 - val_loss: 0.6533 - val_accuracy: 0.6212\n",
            "Epoch 15/20\n",
            "318/318 [==============================] - 1s 3ms/step - loss: 0.6388 - accuracy: 0.6342 - val_loss: 0.6503 - val_accuracy: 0.6283\n",
            "Epoch 16/20\n",
            "318/318 [==============================] - 1s 3ms/step - loss: 0.6319 - accuracy: 0.6477 - val_loss: 0.6494 - val_accuracy: 0.6228\n",
            "Epoch 17/20\n",
            "318/318 [==============================] - 1s 3ms/step - loss: 0.6375 - accuracy: 0.6350 - val_loss: 0.6513 - val_accuracy: 0.6248\n",
            "Epoch 18/20\n",
            "318/318 [==============================] - 1s 3ms/step - loss: 0.6407 - accuracy: 0.6338 - val_loss: 0.6587 - val_accuracy: 0.6275\n",
            "Epoch 19/20\n",
            "318/318 [==============================] - 1s 3ms/step - loss: 0.6310 - accuracy: 0.6446 - val_loss: 0.6496 - val_accuracy: 0.6228\n",
            "Epoch 20/20\n",
            "318/318 [==============================] - 1s 3ms/step - loss: 0.6333 - accuracy: 0.6415 - val_loss: 0.6479 - val_accuracy: 0.6177\n"
          ],
          "name": "stdout"
        }
      ]
    },
    {
      "cell_type": "markdown",
      "metadata": {
        "id": "kTCNBJWtNi5V"
      },
      "source": [
        "We have used sigmoid activation function as we are having binary classes"
      ]
    },
    {
      "cell_type": "markdown",
      "metadata": {
        "id": "1I4FQnEeNx1t"
      },
      "source": [
        "### ANN model's summary"
      ]
    },
    {
      "cell_type": "code",
      "metadata": {
        "colab": {
          "base_uri": "https://localhost:8080/"
        },
        "id": "RYQOJN_QysC-",
        "outputId": "223c2c58-6d36-473d-feea-e7f2054aa362"
      },
      "source": [
        "ann_model.summary()"
      ],
      "execution_count": 29,
      "outputs": [
        {
          "output_type": "stream",
          "text": [
            "Model: \"sequential\"\n",
            "_________________________________________________________________\n",
            "Layer (type)                 Output Shape              Param #   \n",
            "=================================================================\n",
            "dense (Dense)                (None, 16)                272       \n",
            "_________________________________________________________________\n",
            "dense_1 (Dense)              (None, 32)                544       \n",
            "_________________________________________________________________\n",
            "dense_2 (Dense)              (None, 128)               4224      \n",
            "_________________________________________________________________\n",
            "dropout (Dropout)            (None, 128)               0         \n",
            "_________________________________________________________________\n",
            "dense_3 (Dense)              (None, 256)               33024     \n",
            "_________________________________________________________________\n",
            "dense_4 (Dense)              (None, 1)                 257       \n",
            "=================================================================\n",
            "Total params: 38,321\n",
            "Trainable params: 38,321\n",
            "Non-trainable params: 0\n",
            "_________________________________________________________________\n"
          ],
          "name": "stdout"
        }
      ]
    },
    {
      "cell_type": "markdown",
      "metadata": {
        "id": "M0lPtcj0N21P"
      },
      "source": [
        "#### ANN model's Evaluation"
      ]
    },
    {
      "cell_type": "code",
      "metadata": {
        "colab": {
          "base_uri": "https://localhost:8080/",
          "height": 282
        },
        "id": "1YzkmxCY0d94",
        "outputId": "e8b67630-dad5-403f-98b3-feb3588e6206"
      },
      "source": [
        "pd.DataFrame(history.history).plot()"
      ],
      "execution_count": 30,
      "outputs": [
        {
          "output_type": "execute_result",
          "data": {
            "text/plain": [
              "<matplotlib.axes._subplots.AxesSubplot at 0x7f3c7cc87fd0>"
            ]
          },
          "metadata": {
            "tags": []
          },
          "execution_count": 30
        },
        {
          "output_type": "display_data",
          "data": {
            "image/png": "[encoded data removed]",
            "text/plain": [
              "<Figure size 432x288 with 1 Axes>"
            ]
          },
          "metadata": {
            "tags": [],
            "needs_background": "light"
          }
        }
      ]
    },
    {
      "cell_type": "markdown",
      "metadata": {
        "id": "d2LuchuOOI3R"
      },
      "source": [
        "Accuracy and loss plot during training and validation. We can observe that we are getting accuracy in increasing format and loss in decreasing format."
      ]
    },
    {
      "cell_type": "code",
      "metadata": {
        "id": "YyCK4QNU0xkD"
      },
      "source": [
        "ann_accuracy = history.history['accuracy'][-1]\n",
        "ann_loss = history.history['val_loss'][-1]"
      ],
      "execution_count": 31,
      "outputs": []
    },
    {
      "cell_type": "markdown",
      "metadata": {
        "id": "6d9ZDiePOkHm"
      },
      "source": [
        "## Comparison and Conclusion"
      ]
    },
    {
      "cell_type": "markdown",
      "metadata": {
        "id": "NH72p-Z8RTvl"
      },
      "source": [
        "#### Accuracy plot"
      ]
    },
    {
      "cell_type": "code",
      "metadata": {
        "colab": {
          "base_uri": "https://localhost:8080/",
          "height": 320
        },
        "id": "kmUmyXBVOfbb",
        "outputId": "31fe28e5-1a3f-4f62-a91b-a839086ba40e"
      },
      "source": [
        "models = ['tree_classifier', ' XGBoost_classifier', 'ANN']\n",
        "values = [tree_accuracy, xgb_accuracy, ann_accuracy]\n",
        "bar = sns.barplot(models, values, palette=\"rocket\")"
      ],
      "execution_count": 32,
      "outputs": [
        {
          "output_type": "stream",
          "text": [
            "/usr/local/lib/python3.7/dist-packages/seaborn/_decorators.py:43: FutureWarning: Pass the following variables as keyword args: x, y. From version 0.12, the only valid positional argument will be `data`, and passing other arguments without an explicit keyword will result in an error or misinterpretation.\n",
            "  FutureWarning\n"
          ],
          "name": "stderr"
        },
        {
          "output_type": "display_data",
          "data": {
            "image/png": "[encoded data removed]",
            "text/plain": [
              "<Figure size 432x288 with 1 Axes>"
            ]
          },
          "metadata": {
            "tags": [],
            "needs_background": "light"
          }
        }
      ]
    },
    {
      "cell_type": "markdown",
      "metadata": {
        "id": "ryQWlmogRWOf"
      },
      "source": [
        "#### Loss plot"
      ]
    },
    {
      "cell_type": "code",
      "metadata": {
        "colab": {
          "base_uri": "https://localhost:8080/",
          "height": 320
        },
        "id": "AKIKUDsxQ9o7",
        "outputId": "1482aed4-2285-49e5-d665-86f9d0304555"
      },
      "source": [
        "models = ['tree_classifier', ' XGBoost_classifier', 'ANN']\n",
        "values = [tree_logloss, xgb_logloss, ann_loss]\n",
        "bar = sns.barplot(models, values, palette=\"rocket\")"
      ],
      "execution_count": 33,
      "outputs": [
        {
          "output_type": "stream",
          "text": [
            "/usr/local/lib/python3.7/dist-packages/seaborn/_decorators.py:43: FutureWarning: Pass the following variables as keyword args: x, y. From version 0.12, the only valid positional argument will be `data`, and passing other arguments without an explicit keyword will result in an error or misinterpretation.\n",
            "  FutureWarning\n"
          ],
          "name": "stderr"
        },
        {
          "output_type": "display_data",
          "data": {
            "image/png": "[encoded data removed]",
            "text/plain": [
              "<Figure size 432x288 with 1 Axes>"
            ]
          },
          "metadata": {
            "tags": [],
            "needs_background": "light"
          }
        }
      ]
    },
    {
      "cell_type": "markdown",
      "metadata": {
        "id": "sp77KmtoRYlh"
      },
      "source": [
        "XGBoost is having minimum loss whereas Decision Tree classifier is giving so much loss value over this dataset."
      ]
    },
    {
      "cell_type": "code",
      "metadata": {
        "id": "_6Qh4XvdPcd7"
      },
      "source": [
        ""
      ],
      "execution_count": 33,
      "outputs": []
    },
    {
      "cell_type": "markdown",
      "metadata": {
        "id": "VEEo63hzPn7h"
      },
      "source": [
        "## Conclusion\n",
        "\n",
        "Proposed models were: Decision tree classifier, XG Boost classifier, and Artificial Neural Network. After training, testing, and evaluating all these classifiers and networks, the final comparison plot is created which is concluding that **XG Boost classifier** is performing well with accuracy **72%**(approx) among three proposed models with the minimum log_loss of approx. **0.5**.\n",
        "Techniques and evaluation shows there might be some issues with the dataset as the techniques are applied properply.\n",
        "But, for the conclusion XGBoost should be choosen for classification of coupon acceptance."
      ]
    },
    {
      "cell_type": "code",
      "metadata": {
        "id": "gi3dJx2jR_B6"
      },
      "source": [
        ""
      ],
      "execution_count": 33,
      "outputs": []
    }
  ]
}